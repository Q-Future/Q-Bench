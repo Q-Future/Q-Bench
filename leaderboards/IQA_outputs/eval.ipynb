{
 "cells": [
  {
   "cell_type": "code",
   "execution_count": 1,
   "id": "d6a105d3-f97c-45c2-99e3-549b7ada682a",
   "metadata": {
    "tags": []
   },
   "outputs": [],
   "source": [
    "from scipy.stats import spearmanr, pearsonr\n",
    "from scipy.stats import kendalltau\n",
    "\n",
    "import json\n"
   ]
  },
  {
   "cell_type": "code",
   "execution_count": 2,
   "id": "b5ab366a-3233-49c0-8f72-5bd55ae94ead",
   "metadata": {
    "tags": []
   },
   "outputs": [],
   "source": [
    "import numpy as np\n",
    "def softmax(a, b, temperature=100):\n",
    "    a /= temperature\n",
    "    b /= temperature\n",
    "    return np.exp(a) / (np.exp(a) + np.exp(b))\n",
    "\n",
    "def argmax(a, b): #, temperature=2):\n",
    "    return int(a > b)\n",
    "\n",
    "def singmax(a, b): #, temperature=2):\n",
    "    return b"
   ]
  },
  {
   "cell_type": "markdown",
   "id": "13d12331-5d4b-422f-a376-9c321431036b",
   "metadata": {
    "tags": []
   },
   "source": [
    "### Main Results"
   ]
  },
  {
   "cell_type": "code",
   "execution_count": 3,
   "id": "789a481b-e366-47fb-bf98-8169fb417df6",
   "metadata": {
    "tags": []
   },
   "outputs": [
    {
     "name": "stdout",
     "output_type": "stream",
     "text": [
      "| **Model Name**| SPAQ| KoNIQ-10k| LIVE-FB| LIVE-itw| CGIQA-6K| AGIQA-3K| KADID-10K| average| \n",
      "| -| -| -| -| -| -| -| -| -| \n",
      "|clip_vit_l14 | 0.385/0.389 | 0.468/0.505 | 0.218/0.237 | 0.307/0.308 | 0.285/0.290 | 0.436/0.458 | 0.376/0.388| 0.354/0.368|\n",
      "|idefics | 0.474/0.484 | 0.375/0.400 | 0.235/0.240 | 0.409/0.428 | 0.199/0.229 | 0.562/0.622 | 0.370/0.373| 0.375/0.397|\n",
      "|instructblip_t5 | 0.582/0.599 | 0.334/0.362 | 0.248/0.267 | 0.113/0.113 | 0.167/0.188 | 0.378/0.400 | 0.181/0.166| 0.286/0.299|\n",
      "|instructblip_vicuna | 0.683/0.689 | 0.359/0.437 | 0.200/0.283 | 0.253/0.367 | 0.263/0.304 | 0.629/0.663 | 0.337/0.382| 0.389/0.446|\n",
      "|kosmos_2 | 0.644/0.641 | 0.255/0.281 | 0.196/0.195 | 0.358/0.368 | 0.210/0.225 | 0.489/0.491 | 0.359/0.365| 0.359/0.367|\n",
      "|llama_adapter_v2 | 0.464/0.506 | 0.354/0.363 | 0.275/0.329 | 0.298/0.360 | 0.257/0.271 | 0.604/0.666 | 0.412/0.425| 0.381/0.417|\n",
      "|llava_v1.5 | 0.563/0.584 | 0.448/0.460 | 0.310/0.339 | 0.445/0.481 | 0.285/0.297 | 0.664/0.754 | 0.390/0.400| 0.444/0.473|\n",
      "|llava_v1 | 0.442/0.462 | 0.462/0.457 | 0.264/0.280 | 0.404/0.417 | 0.208/0.237 | 0.626/0.684 | 0.349/0.372| 0.394/0.416|\n",
      "|minigpt4_13b | 0.238/0.253 | 0.239/0.257 | 0.170/0.183 | 0.339/0.340 | 0.252/0.246 | 0.572/0.591 | 0.239/0.233| 0.293/0.300|\n",
      "|mplug_owl | 0.634/0.644 | 0.409/0.427 | 0.241/0.271 | 0.437/0.487 | 0.148/0.180 | 0.687/0.711 | 0.466/0.486| 0.432/0.458|\n",
      "|otter_v1 | 0.436/0.441 | 0.406/0.406 | 0.143/0.142 | -0.008/0.018 | 0.254/0.264 | 0.475/0.481 | 0.557/0.577| 0.323/0.333|\n",
      "|qwen-vl | 0.676/0.669 | 0.470/0.546 | 0.298/0.338 | 0.504/0.532 | 0.273/0.284 | 0.617/0.686 | 0.486/0.486| 0.475/0.506|\n",
      "|shikra | 0.327/0.337 | 0.314/0.307 | 0.222/0.227 | 0.322/0.336 | 0.198/0.201 | 0.640/0.661 | 0.324/0.332| 0.335/0.343|\n",
      "|visualglm | 0.498/0.507 | 0.247/0.234 | 0.146/0.154 | 0.110/0.116 | 0.209/0.183 | 0.342/0.349 | 0.127/0.131| 0.240/0.239|\n"
     ]
    }
   ],
   "source": [
    "## Official Results\n",
    "\n",
    "import json, glob\n",
    "models = glob.glob(\"*/\")\n",
    "\n",
    "\n",
    "datasets = [\"\", \"**Model Name**\", \"SPAQ\",\"KoNIQ-10k\",\"LIVE-FB\",\"LIVE-itw\",\"CGIQA-6K\", \"AGIQA-3K\", \"KADID-10K\", \"average\", \"\"]\n",
    "print(\"| \".join(datasets))\n",
    "lst = [\"\"] + [\"-\" for i in datasets[1:-1]] + [\"\"]\n",
    "print(\"| \".join(lst))\n",
    "for json_prefix in sorted(models):\n",
    "    jsons = [\n",
    "        json_prefix + \"spaq.json\",\n",
    "        json_prefix + \"koniq.json\",\n",
    "        json_prefix + \"flive.json\",\n",
    "        json_prefix + \"livec.json\",\n",
    "        json_prefix + \"cgi.json\",\n",
    "        json_prefix + \"agi.json\",\n",
    "        json_prefix + \"kadid.json\",\n",
    "    ]\n",
    "    stri = json_prefix[:-1]\n",
    "    avg_s, avg_p = 0., 0.\n",
    "    for json_ in jsons:\n",
    "                if not glob.glob(json_):\n",
    "                    print(json_)\n",
    "                    continue\n",
    "                with open(json_) as f:\n",
    "                    s = f.read().replace(\"}{\", \"},{\")\n",
    "                    if s[0] != \"[\":\n",
    "                        s = \"[\" + s + \"]\"\n",
    "                    d = json.loads(s)\n",
    "                if json_prefix == \"instructblip_t5/\":\n",
    "                    if json_ == json_prefix + \"cgi.json\":\n",
    "                        # as in paper\n",
    "                        d1, d2 = d[:3000], d[3000:6000]\n",
    "                        s = (spearmanr([float(di[\"gt_score\"]) for di in d1], [softmax(di[\"logit_high\"], di[\"logit_low\"]) for di in d1])[0])\n",
    "                        p = (pearsonr([float(di[\"gt_score\"]) for di in d1], [softmax(di[\"logit_high\"], di[\"logit_low\"]) for di in d1])[0])\n",
    "                        s += (spearmanr([float(di[\"gt_score\"]) for di in d2], [softmax(di[\"logit_high\"], di[\"logit_low\"]) for di in d2])[0])\n",
    "                        p += (pearsonr([float(di[\"gt_score\"]) for di in d2], [softmax(di[\"logit_high\"], di[\"logit_low\"]) for di in d2])[0])\n",
    "                        s /= 2\n",
    "                        p /= 2\n",
    "                    else:\n",
    "                        s = (spearmanr([float(di[\"gt_score\"]) for di in d], [softmax(di[\"logit_high\"], di[\"logit_low\"]) for di in d])[0])\n",
    "                        p = (pearsonr([float(di[\"gt_score\"]) for di in d], [softmax(di[\"logit_high\"], di[\"logit_low\"]) for di in d])[0])\n",
    "                else:\n",
    "                    if json_ == json_prefix + \"cgi.json\":\n",
    "                        # as in paper\n",
    "                        d1, d2 = d[:3000], d[3000:6000]\n",
    "                        s = (spearmanr([float(di[\"gt_score\"]) for di in d1], [softmax(di[\"logit_good\"], di[\"logit_poor\"]) for di in d1])[0])\n",
    "                        p = (pearsonr([float(di[\"gt_score\"]) for di in d1], [softmax(di[\"logit_good\"], di[\"logit_poor\"]) for di in d1])[0])\n",
    "                        s += (spearmanr([float(di[\"gt_score\"]) for di in d2], [softmax(di[\"logit_good\"], di[\"logit_poor\"]) for di in d2])[0])\n",
    "                        p += (pearsonr([float(di[\"gt_score\"]) for di in d2], [softmax(di[\"logit_good\"], di[\"logit_poor\"]) for di in d2])[0])\n",
    "                        s /= 2\n",
    "                        p /= 2\n",
    "                    else:\n",
    "                        s = (spearmanr([float(di[\"gt_score\"]) for di in d], [softmax(di[\"logit_good\"], di[\"logit_poor\"]) for di in d])[0])\n",
    "                        p = (pearsonr([float(di[\"gt_score\"]) for di in d], [softmax(di[\"logit_good\"], di[\"logit_poor\"]) for di in d])[0])\n",
    "                stri += \" | {:.3f}/{:.3f}\".format(s, p)\n",
    "                avg_s += s\n",
    "                avg_p += p\n",
    "    \n",
    "    print(\"|\"+stri+\"|\"+\" {:.3f}/{:.3f}|\".format(avg_s/7, avg_p/7))"
   ]
  },
  {
   "cell_type": "markdown",
   "id": "6da07745-2572-4559-9f05-75e991282efd",
   "metadata": {},
   "source": [
    "#### What if we do not use the proposed softmax strategy in Q-Bench?"
   ]
  },
  {
   "cell_type": "code",
   "execution_count": 4,
   "id": "c5b57fe9-30d2-461c-8d3b-4126c2e58829",
   "metadata": {
    "tags": []
   },
   "outputs": [
    {
     "name": "stdout",
     "output_type": "stream",
     "text": [
      "Results NaN/NaN means that the argmax(logit_good, logit_poor) is always one value, that the model constantly predict good/bad.\n",
      "| **Model Name**| SPAQ| KoNIQ-10k| LIVE-FB| LIVE-itw| CGIQA-6K| AGIQA-3K| KADID-10K| average| \n",
      "| -| -| -| -| -| -| -| -| -| \n",
      "|clip_vit_l14 | 0.269/0.269 | 0.383/0.427 | 0.163/0.185 | 0.246/0.226 | 0.030/0.031 | 0.167/0.191 | 0.271/0.272| 0.219/0.229|\n",
      "|idefics | 0.119/0.127 | 0.040/0.050 | 0.050/0.073 | 0.029/0.028 | 0.066/0.069 | 0.254/0.302 | 0.020/0.020| 0.083/0.096|\n"
     ]
    },
    {
     "name": "stderr",
     "output_type": "stream",
     "text": [
      "/home/ps/anaconda3/lib/python3.11/site-packages/scipy/stats/_stats_py.py:4916: ConstantInputWarning: An input array is constant; the correlation coefficient is not defined.\n",
      "  warnings.warn(stats.ConstantInputWarning(warn_msg))\n",
      "/home/ps/anaconda3/lib/python3.11/site-packages/scipy/stats/_stats_py.py:4424: ConstantInputWarning: An input array is constant; the correlation coefficient is not defined.\n",
      "  warnings.warn(stats.ConstantInputWarning(msg))\n"
     ]
    },
    {
     "name": "stdout",
     "output_type": "stream",
     "text": [
      "|instructblip_t5 | -0.010/-0.010 | 0.007/0.003 | 0.011/0.010 | -0.034/-0.033 | nan/nan | -0.015/-0.015 | 0.011/0.011| nan/nan|\n",
      "|instructblip_vicuna | 0.663/0.664 | 0.284/0.353 | 0.156/0.250 | 0.196/0.264 | 0.214/0.222 | 0.506/0.567 | 0.305/0.307| 0.332/0.375|\n",
      "|kosmos_2 | 0.533/0.535 | 0.074/0.085 | 0.084/0.095 | 0.152/0.173 | 0.065/0.066 | 0.159/0.182 | 0.186/0.186| 0.179/0.189|\n",
      "|llama_adapter_v2 | 0.417/0.423 | 0.218/0.237 | 0.223/0.257 | 0.205/0.239 | 0.200/0.200 | 0.545/0.579 | 0.228/0.230| 0.291/0.309|\n",
      "|llava_v1.5 | 0.481/0.484 | 0.311/0.341 | 0.244/0.270 | 0.306/0.346 | 0.228/0.227 | 0.607/0.667 | 0.251/0.253| 0.347/0.370|\n",
      "|llava_v1 | 0.101/0.108 | 0.038/0.045 | 0.036/0.055 | 0.059/0.075 | 0.066/0.079 | 0.240/0.297 | 0.051/0.051| 0.084/0.101|\n",
      "|minigpt4_13b | 0.009/0.010 | 0.009/0.013 | 0.019/0.019 | 0.025/0.035 | nan/nan | 0.055/0.066 | nan/nan| nan/nan|\n",
      "|mplug_owl | 0.463/0.469 | 0.111/0.154 | 0.081/0.124 | 0.170/0.237 | nan/nan | 0.410/0.466 | 0.203/0.204| nan/nan|\n",
      "|otter_v1 | 0.108/0.108 | 0.101/0.117 | 0.082/0.087 | -0.007/0.009 | 0.109/0.115 | 0.422/0.434 | 0.463/0.465| 0.183/0.191|\n",
      "|qwen-vl | 0.128/0.127 | 0.262/0.251 | 0.223/0.216 | 0.345/0.327 | 0.231/0.236 | 0.427/0.440 | 0.387/0.389| 0.286/0.284|\n",
      "|shikra | 0.277/0.281 | 0.178/0.202 | 0.152/0.170 | 0.248/0.267 | 0.093/0.100 | 0.513/0.563 | 0.245/0.246| 0.244/0.261|\n",
      "|visualglm | 0.415/0.418 | 0.139/0.138 | 0.088/0.091 | 0.051/0.044 | 0.055/0.057 | 0.300/0.319 | 0.063/0.063| 0.159/0.161|\n"
     ]
    }
   ],
   "source": [
    "## Ablation Results for Using ‘’‘Argmax’‘’ between \"good\" and \"poor\"\n",
    "\n",
    "print(\"Results NaN/NaN means that the argmax(logit_good, logit_poor) is always one value, that the model constantly predict good/bad.\")\n",
    "datasets = [\"\", \"**Model Name**\", \"SPAQ\",\"KoNIQ-10k\",\"LIVE-FB\",\"LIVE-itw\",\"CGIQA-6K\", \"AGIQA-3K\", \"KADID-10K\", \"average\", \"\"]\n",
    "print(\"| \".join(datasets))\n",
    "lst = [\"\"] + [\"-\" for i in datasets[1:-1]] + [\"\"]\n",
    "print(\"| \".join(lst))\n",
    "for json_prefix in sorted(models):\n",
    "    jsons = [\n",
    "        json_prefix + \"spaq.json\",\n",
    "        json_prefix + \"koniq.json\",\n",
    "        json_prefix + \"flive.json\",\n",
    "        json_prefix + \"livec.json\",\n",
    "        json_prefix + \"cgi.json\",\n",
    "        json_prefix + \"agi.json\",\n",
    "        json_prefix + \"kadid.json\",\n",
    "    ]\n",
    "    stri = json_prefix[:-1]\n",
    "    avg_s, avg_p = 0., 0.\n",
    "    for json_ in jsons:\n",
    "                if not glob.glob(json_):\n",
    "                    print(json_)\n",
    "                    continue\n",
    "                with open(json_) as f:\n",
    "                    s = f.read().replace(\"}{\", \"},{\")\n",
    "                    if s[0] != \"[\":\n",
    "                        s = \"[\" + s + \"]\"\n",
    "                    d = json.loads(s)\n",
    "                if json_prefix == \"instructblip_t5/\":\n",
    "                    if json_ == json_prefix + \"cgi.json\":\n",
    "                        # as in paper\n",
    "                        d1, d2 = d[:3000], d[3000:6000]\n",
    "                        s = (spearmanr([float(di[\"gt_score\"]) for di in d1], [argmax(di[\"logit_high\"], di[\"logit_low\"]) for di in d1])[0])\n",
    "                        p = (pearsonr([float(di[\"gt_score\"]) for di in d1], [argmax(di[\"logit_high\"], di[\"logit_low\"]) for di in d1])[0])\n",
    "                        s += (spearmanr([float(di[\"gt_score\"]) for di in d2], [argmax(di[\"logit_high\"], di[\"logit_low\"]) for di in d2])[0])\n",
    "                        p += (pearsonr([float(di[\"gt_score\"]) for di in d2], [argmax(di[\"logit_high\"], di[\"logit_low\"]) for di in d2])[0])\n",
    "                        s /= 2\n",
    "                        p /= 2\n",
    "                    else:\n",
    "                        s = (spearmanr([float(di[\"gt_score\"]) for di in d], [argmax(di[\"logit_high\"], di[\"logit_low\"]) for di in d])[0])\n",
    "                        p = (pearsonr([float(di[\"gt_score\"]) for di in d], [argmax(di[\"logit_high\"], di[\"logit_low\"]) for di in d])[0])\n",
    "                elif json_prefix == \"qwen-vl\":\n",
    "                    print('qw')\n",
    "                    if json_ == json_prefix + \"cgi.json\":\n",
    "                        # as in paper\n",
    "                        d1, d2 = d[:3000], d[3000:6000]\n",
    "                        s = (spearmanr([float(di[\"gt_score\"]) for di in d1], [argmax(di[\"logit_excellent\"], di[\"logit_poor\"]) for di in d1])[0])\n",
    "                        p = (pearsonr([float(di[\"gt_score\"]) for di in d1], [argmax(di[\"logit_excellent\"], di[\"logit_poor\"]) for di in d1])[0])\n",
    "                        s += (spearmanr([float(di[\"gt_score\"]) for di in d2], [argmax(di[\"logit_excellent\"], di[\"logit_poor\"]) for di in d2])[0])\n",
    "                        p += (pearsonr([float(di[\"gt_score\"]) for di in d2], [argmax(di[\"logit_excellent\"], di[\"logit_poor\"]) for di in d2])[0])\n",
    "                        s /= 2\n",
    "                        p /= 2\n",
    "                    else:\n",
    "                        s = (spearmanr([float(di[\"gt_score\"]) for di in d], [argmax(di[\"logit_excellent\"], di[\"logit_poor\"]) for di in d])[0])\n",
    "                        p = (pearsonr([float(di[\"gt_score\"]) for di in d], [argmax(di[\"logit_excellent\"], di[\"logit_poor\"]) for di in d])[0])\n",
    "                \n",
    "                else:\n",
    "                    if json_ == json_prefix + \"cgi.json\":\n",
    "                        # as in paper\n",
    "                        d1, d2 = d[:3000], d[3000:6000]\n",
    "                        s = (spearmanr([float(di[\"gt_score\"]) for di in d1], [argmax(di[\"logit_good\"], di[\"logit_poor\"]) for di in d1])[0])\n",
    "                        p = (pearsonr([float(di[\"gt_score\"]) for di in d1], [argmax(di[\"logit_good\"], di[\"logit_poor\"]) for di in d1])[0])\n",
    "                        s += (spearmanr([float(di[\"gt_score\"]) for di in d2], [argmax(di[\"logit_good\"], di[\"logit_poor\"]) for di in d2])[0])\n",
    "                        p += (pearsonr([float(di[\"gt_score\"]) for di in d2], [argmax(di[\"logit_good\"], di[\"logit_poor\"]) for di in d2])[0])\n",
    "                        s /= 2\n",
    "                        p /= 2\n",
    "                    else:\n",
    "                        s = (spearmanr([float(di[\"gt_score\"]) for di in d], [argmax(di[\"logit_good\"], di[\"logit_poor\"]) for di in d])[0])\n",
    "                        p = (pearsonr([float(di[\"gt_score\"]) for di in d], [argmax(di[\"logit_good\"], di[\"logit_poor\"]) for di in d])[0])\n",
    "                stri += \" | {:.3f}/{:.3f}\".format(s, p)\n",
    "                avg_s += s\n",
    "                avg_p += p\n",
    "    \n",
    "    print(\"|\"+stri+\"|\"+\" {:.3f}/{:.3f}|\".format(avg_s/7, avg_p/7))"
   ]
  },
  {
   "cell_type": "markdown",
   "id": "aa22635f-acb4-4e58-b532-f45395ce428a",
   "metadata": {
    "tags": []
   },
   "source": [
    "### What if we do not follow the LLMs' preferred output?"
   ]
  },
  {
   "cell_type": "code",
   "execution_count": 6,
   "id": "3d228f01-eda9-4f47-8506-bf227ebb142f",
   "metadata": {
    "tags": []
   },
   "outputs": [
    {
     "name": "stdout",
     "output_type": "stream",
     "text": [
      "#### On dataset: koniq ####\n",
      "Use good/poor:\n",
      "0.287872594346266\n",
      "0.28916321967110636\n",
      "Use high/low:\n",
      "0.3343189447129938\n",
      "0.36228762312872836\n",
      "#### On dataset: spaq ####\n",
      "Use good/poor:\n",
      "0.5809460263575776\n",
      "0.6183042126179601\n",
      "Use high/low:\n",
      "0.5821330335775249\n",
      "0.598677194354896\n",
      "#### On dataset: flive ####\n",
      "Use good/poor:\n",
      "0.2209330461038824\n",
      "0.23059966962060757\n",
      "Use high/low:\n",
      "0.24803585398750716\n",
      "0.2674082687959074\n",
      "#### On dataset: livec ####\n",
      "Use good/poor:\n",
      "0.017060770005605568\n",
      "0.020464221103786404\n",
      "Use high/low:\n",
      "0.11327492446378733\n",
      "0.11316193991280091\n",
      "#### On dataset: agi ####\n",
      "Use good/poor:\n",
      "0.26382944187621005\n",
      "0.281093899467867\n",
      "Use high/low:\n",
      "0.37774309995693933\n",
      "0.39952749110800656\n",
      "#### On dataset: kadid ####\n",
      "Use good/poor:\n",
      "0.26425786523005373\n",
      "0.22081100785332958\n",
      "Use high/low:\n",
      "0.1810856710249136\n",
      "0.16649232815409978\n"
     ]
    }
   ],
   "source": [
    "## ABLATION Study for InstructBLIP-T5XL, \"good/poor\" vs \"high/low\"\n",
    "\n",
    "import json\n",
    "models = [\"instructblip_t5\"]\n",
    "datasets = [\"koniq\", \"spaq\", \"flive\", \"livec\", \"agi\", \"kadid\"]\n",
    "for model in models:\n",
    "    for data in datasets:\n",
    "        with open(f\"{model}/{data}.json\") as f:\n",
    "            s = f.read().replace(\"}{\", \"},{\")\n",
    "            if s[0] != \"[\":\n",
    "                s = \"[\" + s + \"]\"\n",
    "            d = json.loads(s)\n",
    "        print(\"#### On dataset:\", data, \"####\")\n",
    "        print(\"Use good/poor:\")\n",
    "        print(spearmanr([float(di[\"gt_score\"]) for di in d], [softmax(di[\"logit_good\"], di[\"logit_poor\"]) for di in d])[0])\n",
    "        print(pearsonr([float(di[\"gt_score\"]) for di in d], [softmax(di[\"logit_good\"], di[\"logit_poor\"]) for di in d])[0])\n",
    "        print(\"Use high/low:\")\n",
    "        \n",
    "        print(spearmanr([float(di[\"gt_score\"]) for di in d], [softmax(di[\"logit_high\"], di[\"logit_low\"]) for di in d])[0])\n",
    "        print(pearsonr([float(di[\"gt_score\"]) for di in d], [softmax(di[\"logit_high\"], di[\"logit_low\"]) for di in d])[0])"
   ]
  },
  {
   "cell_type": "code",
   "execution_count": null,
   "id": "fa5bac51-c353-4bab-848b-e786a57a92a6",
   "metadata": {},
   "outputs": [],
   "source": []
  }
 ],
 "metadata": {
  "kernelspec": {
   "display_name": "Python 3 (ipykernel)",
   "language": "python",
   "name": "python3"
  },
  "language_info": {
   "codemirror_mode": {
    "name": "ipython",
    "version": 3
   },
   "file_extension": ".py",
   "mimetype": "text/x-python",
   "name": "python",
   "nbconvert_exporter": "python",
   "pygments_lexer": "ipython3",
   "version": "3.11.4"
  }
 },
 "nbformat": 4,
 "nbformat_minor": 5
}
