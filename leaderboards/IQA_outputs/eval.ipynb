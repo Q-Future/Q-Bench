{
 "cells": [
  {
   "cell_type": "code",
   "execution_count": 2,
   "id": "d6a105d3-f97c-45c2-99e3-549b7ada682a",
   "metadata": {
    "tags": []
   },
   "outputs": [],
   "source": [
    "from scipy.stats import spearmanr, pearsonr\n",
    "from scipy.stats import kendalltau\n",
    "\n",
    "import json\n"
   ]
  },
  {
   "cell_type": "code",
   "execution_count": 3,
   "id": "b5ab366a-3233-49c0-8f72-5bd55ae94ead",
   "metadata": {
    "tags": []
   },
   "outputs": [],
   "source": [
    "import numpy as np\n",
    "def softmax(a, b, temperature=100):\n",
    "    a /= temperature\n",
    "    b /= temperature\n",
    "    return np.exp(a) / (np.exp(a) + np.exp(b))\n",
    "\n",
    "def argmax(a, b): #, temperature=2):\n",
    "    return int(a > b)\n",
    "\n",
    "def singmax(a, b): #, temperature=2):\n",
    "    return b"
   ]
  },
  {
   "cell_type": "code",
   "execution_count": 4,
   "id": "789a481b-e366-47fb-bf98-8169fb417df6",
   "metadata": {
    "tags": []
   },
   "outputs": [
    {
     "name": "stdout",
     "output_type": "stream",
     "text": [
      "| **Model Name**| SPAQ| KoNIQ-10k| LIVE-FB| LIVE-itw| CGIQA-6K| AGIQA-3K| KADID-10K| \n",
      "| -| -| -| -| -| -| -| -| -\n",
      "|clip_vit_l14 | 0.385/0.389 | 0.468/0.505 | 0.218/0.237 | 0.307/0.308 | 0.339/0.324 | 0.436/0.458 | 0.376/0.388|\n",
      "|idefics | 0.474/0.484 | 0.375/0.400 | 0.235/0.240 | 0.409/0.428 | 0.179/0.217 | 0.562/0.622 | 0.370/0.373|\n",
      "|instructblip_t5 | 0.581/0.618 | 0.288/0.289 | 0.221/0.231 | 0.017/0.020 | 0.072/0.126 | 0.264/0.281 | 0.264/0.221|\n",
      "|instructblip_vicuna | 0.683/0.689 | 0.359/0.437 | 0.200/0.283 | 0.253/0.367 | 0.200/0.258 | 0.629/0.663 | 0.337/0.382|\n",
      "|kosmos_2 | 0.644/0.641 | 0.255/0.281 | 0.196/0.195 | 0.358/0.368 | 0.222/0.237 | 0.489/0.491 | 0.359/0.365|\n",
      "|llama_adapter_v2 | 0.464/0.506 | 0.354/0.363 | 0.275/0.329 | 0.298/0.360 | 0.215/0.227 | 0.604/0.666 | 0.412/0.425|\n",
      "|llava_v1 | 0.442/0.462 | 0.462/0.457 | 0.264/0.280 | 0.404/0.417 | 0.036/0.082 | 0.626/0.684 | 0.349/0.372|\n",
      "|minigpt4_13b | 0.238/0.253 | 0.239/0.257 | 0.170/0.183 | 0.339/0.340 | 0.229/0.211 | 0.572/0.591 | 0.239/0.233|\n",
      "|mplug_owl | 0.634/0.644 | 0.409/0.427 | 0.241/0.271 | 0.437/0.487 | 0.055/0.079 | 0.687/0.711 | 0.466/0.486|\n",
      "|otter_v1 | 0.436/0.441 | 0.406/0.406 | 0.143/0.142 | -0.008/0.018 | 0.320/0.350 | 0.475/0.481 | 0.557/0.577|\n",
      "|shikra | 0.327/0.337 | 0.314/0.307 | 0.222/0.227 | 0.322/0.336 | 0.171/0.171 | 0.640/0.661 | 0.324/0.332|\n"
     ]
    }
   ],
   "source": [
    "import json, glob\n",
    "models = glob.glob(\"*/\")\n",
    "\n",
    "\n",
    "datasets = [\"\", \"**Model Name**\", \"SPAQ\",\"KoNIQ-10k\",\"LIVE-FB\",\"LIVE-itw\",\"CGIQA-6K\", \"AGIQA-3K\", \"KADID-10K\", \"\"]\n",
    "print(\"| \".join(datasets))\n",
    "print(\"| \".join([\"\"] + [\"-\" for i in datasets[1:-1] + [\"\"]]))\n",
    "for json_prefix in sorted(models):\n",
    "    jsons = [\n",
    "        json_prefix + \"spaq.json\",\n",
    "        json_prefix + \"koniq.json\",\n",
    "        json_prefix + \"flive.json\",\n",
    "        json_prefix + \"livec.json\",\n",
    "        json_prefix + \"cgi.json\",\n",
    "        json_prefix + \"agi.json\",\n",
    "        json_prefix + \"kadid.json\",\n",
    "    ]\n",
    "    stri = json_prefix[:-1]\n",
    "    for json_ in jsons:\n",
    "                \n",
    "                with open(json_) as f:\n",
    "                    s = f.read().replace(\"}{\", \"},{\")\n",
    "                    if s[0] != \"[\":\n",
    "                        s = \"[\" + s + \"]\"\n",
    "                    d = json.loads(s)\n",
    "                s = (spearmanr([float(di[\"gt_score\"]) for di in d], [softmax(di[\"logit_good\"], di[\"logit_poor\"]) for di in d])[0])\n",
    "                p = (pearsonr([float(di[\"gt_score\"]) for di in d], [softmax(di[\"logit_good\"], di[\"logit_poor\"]) for di in d])[0])\n",
    "                stri += \" | {:.3f}/{:.3f}\".format(s, p)\n",
    "    print(\"|\"+stri+\"|\")"
   ]
  },
  {
   "cell_type": "code",
   "execution_count": 10,
   "id": "3d228f01-eda9-4f47-8506-bf227ebb142f",
   "metadata": {
    "tags": []
   },
   "outputs": [
    {
     "name": "stdout",
     "output_type": "stream",
     "text": [
      "#### On dataset: koniq ####\n",
      "Use good/poor:\n",
      "0.287872594346266\n",
      "0.28916321967110636\n",
      "Use high/low:\n",
      "0.3343189447129938\n",
      "0.36228762312872836\n",
      "#### On dataset: spaq ####\n",
      "Use good/poor:\n",
      "0.5809460263575776\n",
      "0.6183042126179601\n",
      "Use high/low:\n",
      "0.5821330335775249\n",
      "0.598677194354896\n",
      "#### On dataset: flive ####\n",
      "Use good/poor:\n",
      "0.2209330461038824\n",
      "0.23059966962060757\n",
      "Use high/low:\n",
      "0.24803585398750716\n",
      "0.2674082687959074\n",
      "#### On dataset: livec ####\n",
      "Use good/poor:\n",
      "0.017060770005605568\n",
      "0.020464221103786404\n",
      "Use high/low:\n",
      "0.11327492446378733\n",
      "0.11316193991280091\n",
      "#### On dataset: agi ####\n",
      "Use good/poor:\n",
      "0.26382944187621005\n",
      "0.281093899467867\n",
      "Use high/low:\n",
      "0.37774309995693933\n",
      "0.39952749110800656\n",
      "#### On dataset: kadid ####\n",
      "Use good/poor:\n",
      "0.26425786523005373\n",
      "0.22081100785332958\n",
      "Use high/low:\n",
      "0.1810856710249136\n",
      "0.16649232815409978\n"
     ]
    }
   ],
   "source": [
    "## ABLATION Study for InstructBLIP-T5XL, \"good/poor\" vs \"high/low\"\n",
    "\n",
    "import json\n",
    "models = [\"instructblip_t5\"]\n",
    "datasets = [\"koniq\", \"spaq\", \"flive\", \"livec\", \"agi\", \"kadid\"]\n",
    "for model in models:\n",
    "    for data in datasets:\n",
    "        with open(f\"{model}/{data}.json\") as f:\n",
    "            s = f.read().replace(\"}{\", \"},{\")\n",
    "            if s[0] != \"[\":\n",
    "                s = \"[\" + s + \"]\"\n",
    "            d = json.loads(s)\n",
    "        print(\"#### On dataset:\", data, \"####\")\n",
    "        print(\"Use good/poor:\")\n",
    "        print(spearmanr([float(di[\"gt_score\"]) for di in d], [softmax(di[\"logit_good\"], di[\"logit_poor\"]) for di in d])[0])\n",
    "        print(pearsonr([float(di[\"gt_score\"]) for di in d], [softmax(di[\"logit_good\"], di[\"logit_poor\"]) for di in d])[0])\n",
    "        print(\"Use high/low:\")\n",
    "        \n",
    "        print(spearmanr([float(di[\"gt_score\"]) for di in d], [softmax(di[\"logit_high\"], di[\"logit_low\"]) for di in d])[0])\n",
    "        print(pearsonr([float(di[\"gt_score\"]) for di in d], [softmax(di[\"logit_high\"], di[\"logit_low\"]) for di in d])[0])"
   ]
  },
  {
   "cell_type": "code",
   "execution_count": null,
   "id": "1e4f6c4d-2f53-48ba-a670-b4597591539a",
   "metadata": {},
   "outputs": [],
   "source": []
  }
 ],
 "metadata": {
  "kernelspec": {
   "display_name": "Python 3 (ipykernel)",
   "language": "python",
   "name": "python3"
  },
  "language_info": {
   "codemirror_mode": {
    "name": "ipython",
    "version": 3
   },
   "file_extension": ".py",
   "mimetype": "text/x-python",
   "name": "python",
   "nbconvert_exporter": "python",
   "pygments_lexer": "ipython3",
   "version": "3.11.4"
  }
 },
 "nbformat": 4,
 "nbformat_minor": 5
}
