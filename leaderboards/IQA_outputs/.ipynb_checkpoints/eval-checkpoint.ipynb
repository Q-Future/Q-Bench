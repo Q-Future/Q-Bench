{
 "cells": [
  {
   "cell_type": "code",
   "execution_count": 2,
   "id": "d6a105d3-f97c-45c2-99e3-549b7ada682a",
   "metadata": {
    "tags": []
   },
   "outputs": [],
   "source": [
    "from scipy.stats import spearmanr, pearsonr\n",
    "from scipy.stats import kendalltau\n",
    "\n",
    "import json\n"
   ]
  },
  {
   "cell_type": "code",
   "execution_count": 3,
   "id": "b5ab366a-3233-49c0-8f72-5bd55ae94ead",
   "metadata": {
    "tags": []
   },
   "outputs": [],
   "source": [
    "import numpy as np\n",
    "def softmax(a, b, temperature=100):\n",
    "    a /= temperature\n",
    "    b /= temperature\n",
    "    return np.exp(a) / (np.exp(a) + np.exp(b))\n",
    "\n",
    "def argmax(a, b): #, temperature=2):\n",
    "    return int(a > b)\n",
    "\n",
    "def singmax(a, b): #, temperature=2):\n",
    "    return b"
   ]
  },
  {
   "cell_type": "code",
   "execution_count": 588,
   "id": "0734d7a0-ad5d-43b6-b9ce-92cf924e2a1a",
   "metadata": {
    "tags": []
   },
   "outputs": [],
   "source": [
    "lst = [\"\"] + [\"-\" for i in datasets[1:-1]] + [\"\"]"
   ]
  },
  {
   "cell_type": "code",
   "execution_count": 590,
   "id": "789a481b-e366-47fb-bf98-8169fb417df6",
   "metadata": {
    "tags": []
   },
   "outputs": [
    {
     "name": "stdout",
     "output_type": "stream",
     "text": [
      "| **Model Name**| SPAQ| KoNIQ-10k| LIVE-FB| LIVE-itw| CGIQA-6K| AGIQA-3K| KADID-10K| average| \n",
      "| -| -| -| -| -| -| -| -| -| \n",
      "|clip_vit_l14 | 0.385/0.389 | 0.468/0.505 | 0.218/0.237 | 0.307/0.308 | 0.285/0.290 | 0.436/0.458 | 0.376/0.388| 0.354/0.368|\n",
      "|idefics | 0.474/0.484 | 0.375/0.400 | 0.235/0.240 | 0.409/0.428 | 0.199/0.229 | 0.562/0.622 | 0.370/0.373| 0.375/0.397|\n",
      "|instructblip_t5 | 0.582/0.599 | 0.334/0.362 | 0.248/0.267 | 0.113/0.113 | 0.167/0.188 | 0.378/0.400 | 0.181/0.166| 0.286/0.299|\n",
      "|instructblip_vicuna | 0.683/0.689 | 0.359/0.437 | 0.200/0.283 | 0.253/0.367 | 0.263/0.304 | 0.629/0.663 | 0.337/0.382| 0.389/0.446|\n",
      "|kosmos_2 | 0.644/0.641 | 0.255/0.281 | 0.196/0.195 | 0.358/0.368 | 0.210/0.225 | 0.489/0.491 | 0.359/0.365| 0.359/0.367|\n",
      "|llama_adapter_v2 | 0.464/0.506 | 0.354/0.363 | 0.275/0.329 | 0.298/0.360 | 0.257/0.271 | 0.604/0.666 | 0.412/0.425| 0.381/0.417|\n",
      "|llava_v1.5 | 0.563/0.584 | 0.448/0.460 | 0.310/0.339 | 0.445/0.481 | 0.285/0.297 | 0.664/0.754 | 0.390/0.400| 0.444/0.473|\n",
      "|llava_v1 | 0.442/0.462 | 0.462/0.457 | 0.264/0.280 | 0.404/0.417 | 0.208/0.237 | 0.626/0.684 | 0.349/0.372| 0.394/0.416|\n",
      "|minigpt4_13b | 0.238/0.253 | 0.239/0.257 | 0.170/0.183 | 0.339/0.340 | 0.252/0.246 | 0.572/0.591 | 0.239/0.233| 0.293/0.300|\n",
      "|mplug_owl | 0.634/0.644 | 0.409/0.427 | 0.241/0.271 | 0.437/0.487 | 0.148/0.180 | 0.687/0.711 | 0.466/0.486| 0.432/0.458|\n",
      "|otter_v1 | 0.436/0.441 | 0.406/0.406 | 0.143/0.142 | -0.008/0.018 | 0.254/0.264 | 0.475/0.481 | 0.557/0.577| 0.323/0.333|\n",
      "|shikra | 0.327/0.337 | 0.314/0.307 | 0.222/0.227 | 0.322/0.336 | 0.198/0.201 | 0.640/0.661 | 0.324/0.332| 0.335/0.343|\n"
     ]
    }
   ],
   "source": [
    "import json, glob\n",
    "models = glob.glob(\"*/\")\n",
    "\n",
    "\n",
    "datasets = [\"\", \"**Model Name**\", \"SPAQ\",\"KoNIQ-10k\",\"LIVE-FB\",\"LIVE-itw\",\"CGIQA-6K\", \"AGIQA-3K\", \"KADID-10K\", \"average\", \"\"]\n",
    "print(\"| \".join(datasets))\n",
    "print(\"| \".join(lst))\n",
    "for json_prefix in sorted(models):\n",
    "    jsons = [\n",
    "        json_prefix + \"spaq.json\",\n",
    "        json_prefix + \"koniq.json\",\n",
    "        json_prefix + \"flive.json\",\n",
    "        json_prefix + \"livec.json\",\n",
    "        json_prefix + \"cgi.json\",\n",
    "        json_prefix + \"agi.json\",\n",
    "        json_prefix + \"kadid.json\",\n",
    "    ]\n",
    "    stri = json_prefix[:-1]\n",
    "    avg_s, avg_p = 0., 0.\n",
    "    for json_ in jsons:\n",
    "                with open(json_) as f:\n",
    "                    s = f.read().replace(\"}{\", \"},{\")\n",
    "                    if s[0] != \"[\":\n",
    "                        s = \"[\" + s + \"]\"\n",
    "                    d = json.loads(s)\n",
    "                if json_prefix == \"instructblip_t5/\":\n",
    "                    if json_ == json_prefix + \"cgi.json\":\n",
    "                        # as in paper\n",
    "                        d1, d2 = d[:3000], d[3000:6000]\n",
    "                        s = (spearmanr([float(di[\"gt_score\"]) for di in d1], [softmax(di[\"logit_high\"], di[\"logit_low\"]) for di in d1])[0])\n",
    "                        p = (pearsonr([float(di[\"gt_score\"]) for di in d1], [softmax(di[\"logit_high\"], di[\"logit_low\"]) for di in d1])[0])\n",
    "                        s += (spearmanr([float(di[\"gt_score\"]) for di in d2], [softmax(di[\"logit_high\"], di[\"logit_low\"]) for di in d2])[0])\n",
    "                        p += (pearsonr([float(di[\"gt_score\"]) for di in d2], [softmax(di[\"logit_high\"], di[\"logit_low\"]) for di in d2])[0])\n",
    "                        s /= 2\n",
    "                        p /= 2\n",
    "                    else:\n",
    "                        s = (spearmanr([float(di[\"gt_score\"]) for di in d], [softmax(di[\"logit_high\"], di[\"logit_low\"]) for di in d])[0])\n",
    "                        p = (pearsonr([float(di[\"gt_score\"]) for di in d], [softmax(di[\"logit_high\"], di[\"logit_low\"]) for di in d])[0])\n",
    "                \n",
    "                else:\n",
    "                    if json_ == json_prefix + \"cgi.json\":\n",
    "                        # as in paper\n",
    "                        d1, d2 = d[:3000], d[3000:6000]\n",
    "                        s = (spearmanr([float(di[\"gt_score\"]) for di in d1], [softmax(di[\"logit_good\"], di[\"logit_poor\"]) for di in d1])[0])\n",
    "                        p = (pearsonr([float(di[\"gt_score\"]) for di in d1], [softmax(di[\"logit_good\"], di[\"logit_poor\"]) for di in d1])[0])\n",
    "                        s += (spearmanr([float(di[\"gt_score\"]) for di in d2], [softmax(di[\"logit_good\"], di[\"logit_poor\"]) for di in d2])[0])\n",
    "                        p += (pearsonr([float(di[\"gt_score\"]) for di in d2], [softmax(di[\"logit_good\"], di[\"logit_poor\"]) for di in d2])[0])\n",
    "                        s /= 2\n",
    "                        p /= 2\n",
    "                    else:\n",
    "                        s = (spearmanr([float(di[\"gt_score\"]) for di in d], [softmax(di[\"logit_good\"], di[\"logit_poor\"]) for di in d])[0])\n",
    "                        p = (pearsonr([float(di[\"gt_score\"]) for di in d], [softmax(di[\"logit_good\"], di[\"logit_poor\"]) for di in d])[0])\n",
    "                stri += \" | {:.3f}/{:.3f}\".format(s, p)\n",
    "                avg_s += s\n",
    "                avg_p += p\n",
    "    \n",
    "    print(\"|\"+stri+\"|\"+\" {:.3f}/{:.3f}|\".format(avg_s/7, avg_p/7))"
   ]
  },
  {
   "cell_type": "code",
   "execution_count": 10,
   "id": "3d228f01-eda9-4f47-8506-bf227ebb142f",
   "metadata": {
    "tags": []
   },
   "outputs": [
    {
     "name": "stdout",
     "output_type": "stream",
     "text": [
      "#### On dataset: koniq ####\n",
      "Use good/poor:\n",
      "0.287872594346266\n",
      "0.28916321967110636\n",
      "Use high/low:\n",
      "0.3343189447129938\n",
      "0.36228762312872836\n",
      "#### On dataset: spaq ####\n",
      "Use good/poor:\n",
      "0.5809460263575776\n",
      "0.6183042126179601\n",
      "Use high/low:\n",
      "0.5821330335775249\n",
      "0.598677194354896\n",
      "#### On dataset: flive ####\n",
      "Use good/poor:\n",
      "0.2209330461038824\n",
      "0.23059966962060757\n",
      "Use high/low:\n",
      "0.24803585398750716\n",
      "0.2674082687959074\n",
      "#### On dataset: livec ####\n",
      "Use good/poor:\n",
      "0.017060770005605568\n",
      "0.020464221103786404\n",
      "Use high/low:\n",
      "0.11327492446378733\n",
      "0.11316193991280091\n",
      "#### On dataset: agi ####\n",
      "Use good/poor:\n",
      "0.26382944187621005\n",
      "0.281093899467867\n",
      "Use high/low:\n",
      "0.37774309995693933\n",
      "0.39952749110800656\n",
      "#### On dataset: kadid ####\n",
      "Use good/poor:\n",
      "0.26425786523005373\n",
      "0.22081100785332958\n",
      "Use high/low:\n",
      "0.1810856710249136\n",
      "0.16649232815409978\n"
     ]
    }
   ],
   "source": [
    "## ABLATION Study for InstructBLIP-T5XL, \"good/poor\" vs \"high/low\"\n",
    "\n",
    "import json\n",
    "models = [\"instructblip_t5\"]\n",
    "datasets = [\"koniq\", \"spaq\", \"flive\", \"livec\", \"agi\", \"kadid\"]\n",
    "for model in models:\n",
    "    for data in datasets:\n",
    "        with open(f\"{model}/{data}.json\") as f:\n",
    "            s = f.read().replace(\"}{\", \"},{\")\n",
    "            if s[0] != \"[\":\n",
    "                s = \"[\" + s + \"]\"\n",
    "            d = json.loads(s)\n",
    "        print(\"#### On dataset:\", data, \"####\")\n",
    "        print(\"Use good/poor:\")\n",
    "        print(spearmanr([float(di[\"gt_score\"]) for di in d], [softmax(di[\"logit_good\"], di[\"logit_poor\"]) for di in d])[0])\n",
    "        print(pearsonr([float(di[\"gt_score\"]) for di in d], [softmax(di[\"logit_good\"], di[\"logit_poor\"]) for di in d])[0])\n",
    "        print(\"Use high/low:\")\n",
    "        \n",
    "        print(spearmanr([float(di[\"gt_score\"]) for di in d], [softmax(di[\"logit_high\"], di[\"logit_low\"]) for di in d])[0])\n",
    "        print(pearsonr([float(di[\"gt_score\"]) for di in d], [softmax(di[\"logit_high\"], di[\"logit_low\"]) for di in d])[0])"
   ]
  },
  {
   "cell_type": "code",
   "execution_count": null,
   "id": "7e144172-c9ea-484d-836f-2d987aae45f7",
   "metadata": {},
   "outputs": [],
   "source": []
  },
  {
   "cell_type": "code",
   "execution_count": null,
   "id": "c36b3325-98b4-4940-b0bf-18bb8fac0f38",
   "metadata": {},
   "outputs": [],
   "source": []
  }
 ],
 "metadata": {
  "kernelspec": {
   "display_name": "Python 3 (ipykernel)",
   "language": "python",
   "name": "python3"
  },
  "language_info": {
   "codemirror_mode": {
    "name": "ipython",
    "version": 3
   },
   "file_extension": ".py",
   "mimetype": "text/x-python",
   "name": "python",
   "nbconvert_exporter": "python",
   "pygments_lexer": "ipython3",
   "version": "3.11.4"
  }
 },
 "nbformat": 4,
 "nbformat_minor": 5
}
