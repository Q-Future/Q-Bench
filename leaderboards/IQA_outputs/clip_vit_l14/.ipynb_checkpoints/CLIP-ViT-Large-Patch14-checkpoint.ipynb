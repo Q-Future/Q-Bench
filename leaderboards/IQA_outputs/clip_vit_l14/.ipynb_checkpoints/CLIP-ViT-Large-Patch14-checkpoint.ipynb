{
 "cells": [
  {
   "cell_type": "code",
   "execution_count": 1,
   "id": "400dd0fd-e61b-45ff-85aa-23a2c18c7a10",
   "metadata": {
    "tags": []
   },
   "outputs": [
    {
     "name": "stderr",
     "output_type": "stream",
     "text": [
      "`text_config_dict` is provided which will be used to initialize `CLIPTextConfig`. The value `text_config[\"id2label\"]` will be overriden.\n",
      "`text_config_dict` is provided which will be used to initialize `CLIPTextConfig`. The value `text_config[\"bos_token_id\"]` will be overriden.\n",
      "`text_config_dict` is provided which will be used to initialize `CLIPTextConfig`. The value `text_config[\"eos_token_id\"]` will be overriden.\n"
     ]
    }
   ],
   "source": [
    "from PIL import Image\n",
    "import requests\n",
    "\n",
    "from transformers import CLIPProcessor, CLIPModel\n",
    "\n",
    "model = CLIPModel.from_pretrained(\"openai/clip-vit-large-patch14\")\n",
    "processor = CLIPProcessor.from_pretrained(\"openai/clip-vit-large-patch14\")\n",
    "\n",
    "model = model.cuda()"
   ]
  },
  {
   "cell_type": "code",
   "execution_count": null,
   "id": "fd112356-8f8b-4b3a-b4ed-00336fd9d68e",
   "metadata": {
    "tags": []
   },
   "outputs": [
    {
     "name": "stderr",
     "output_type": "stream",
     "text": [
      "100%|█████████████████████████████████████████████████████████████████████████████████████████████████████████████████████████████████████████████████████████████████████████| 887/887 [00:22<00:00, 38.76it/s]\n",
      "100%|█████████████████████████████████████████████████████████████████████████████████████████████████████████████████████████████████████████████████████████████████████| 10073/10073 [05:10<00:00, 32.41it/s]\n",
      "100%|█████████████████████████████████████████████████████████████████████████████████████████████████████████████████████████████████████████████████████████████████████| 39810/39810 [17:57<00:00, 36.95it/s]\n",
      " 45%|███████████████████████████████████████████████████████████████████████████▌                                                                                            | 526/1169 [00:14<00:17, 36.09it/s]"
     ]
    }
   ],
   "source": [
    "\n",
    "from tqdm import tqdm\n",
    "\n",
    "import torch\n",
    "\n",
    "\n",
    "image_paths = [\n",
    "    \"/home/ps/Downloads/datasets/SPAQ/\",\n",
    "    \"/home/ps/Downloads/datasets/1024x768/\",\n",
    "    \"/home/ps/Downloads/datasets/FLIVE_Database/database/\",\n",
    "    \"/home/ps/Downloads/datasets/LIVEC/Images/\",\n",
    "    \"/home/ps/Downloads/datasets/CGIQA-6K/database/\",\n",
    "    \"/home/ps/Downloads/datasets/AGIQA-3K/database/\",\n",
    "    \"/home/ps/Downloads/datasets/kadid10k/images/\",\n",
    "]\n",
    "\n",
    "json_prefix = \"/home/ps/Downloads/datasets/json/\"\n",
    "jsons = [\n",
    "    json_prefix + \"spaq.json\",\n",
    "    json_prefix + \"koniq.json\",\n",
    "    json_prefix + \"flive.json\",\n",
    "    json_prefix + \"livec.json\",\n",
    "    json_prefix + \"cgi.json\",\n",
    "    json_prefix + \"agi.json\",\n",
    "    json_prefix + \"kadid.json\",\n",
    "]\n",
    "\n",
    "for image_path, input_json in zip(image_paths, jsons):\n",
    "\n",
    "    import json, random\n",
    "    with open(input_json) as f:\n",
    "        lldescribe_data = json.load(f)  \n",
    "\n",
    "    if \"spaq\" in input_json:\n",
    "        lldescribe_data = lldescribe_data[10238:]\n",
    "\n",
    "    for i, llddata in enumerate(tqdm(lldescribe_data)):\n",
    "        #print(f\"Evaluating quality for image No. {i}\")\n",
    "        filename = llddata[\"img_path\"]\n",
    "\n",
    "\n",
    "\n",
    "        img = Image.open(image_path + filename).convert(\"RGB\")\n",
    "        inputs = processor(text=[\"a photo of good quality\", \"a photo of poor quality\"], images=img, return_tensors=\"pt\", padding=True)\n",
    "        \n",
    "        with torch.inference_mode(), torch.cuda.amp.autocast():\n",
    "            inputs = {k: v.to(model.device) for k, v in inputs.items()}\n",
    "            outputs = model(**inputs)\n",
    "            logits_per_image = outputs.logits_per_image.tolist() # this is the image-text similarity score\n",
    "            #probs = logits_per_image.softmax(dim=1)\n",
    "            \n",
    "            llddata[\"logit_good\"] = logits_per_image[0][0]\n",
    "            llddata[\"logit_poor\"] = logits_per_image[0][1]\n",
    "        with open(f\"{input_json.split('/')[-1]}\", \"a\") as wf:\n",
    "            json.dump(llddata, wf)\n",
    "\n"
   ]
  },
  {
   "cell_type": "code",
   "execution_count": null,
   "id": "990e7ff5-54da-408c-a2c3-c64c3c3be72b",
   "metadata": {},
   "outputs": [],
   "source": []
  }
 ],
 "metadata": {
  "kernelspec": {
   "display_name": "Python 3 (ipykernel)",
   "language": "python",
   "name": "python3"
  },
  "language_info": {
   "codemirror_mode": {
    "name": "ipython",
    "version": 3
   },
   "file_extension": ".py",
   "mimetype": "text/x-python",
   "name": "python",
   "nbconvert_exporter": "python",
   "pygments_lexer": "ipython3",
   "version": "3.11.4"
  }
 },
 "nbformat": 4,
 "nbformat_minor": 5
}
